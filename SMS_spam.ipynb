{
  "cells": [
    {
      "cell_type": "markdown",
      "metadata": {
        "id": "3tokFeDIrNXG"
      },
      "source": [
        "# **IMPORTING LIBRARIES**"
      ]
    },
    {
      "cell_type": "code",
      "execution_count": null,
      "metadata": {
        "id": "8XBi4s8imnsp"
      },
      "outputs": [],
      "source": [
        "import warnings\n",
        "import seaborn as sns\n",
        "import numpy as np \n",
        "import pandas as pd\n",
        "import re\n",
        "\n",
        "import nltk\n",
        "from nltk.corpus import stopwords\n",
        "from nltk.stem.porter import PorterStemmer\n",
        "from nltk.stem import WordNetLemmatizer\n",
        "\n",
        "from sklearn.feature_extraction.text import TfidfVectorizer\n",
        "from sklearn.preprocessing import LabelEncoder\n",
        "from sklearn.model_selection import train_test_split\n",
        "from sklearn.pipeline import Pipeline    \n",
        "from sklearn.naive_bayes import MultinomialNB\n",
        "from sklearn.ensemble import RandomForestClassifier\n",
        "from sklearn.neighbors import KNeighborsClassifier\n",
        "from sklearn.svm import SVC\n",
        "from sklearn.model_selection import cross_val_score\n",
        "from sklearn.metrics import precision_score, recall_score, plot_confusion_matrix, classification_report, accuracy_score, f1_score\n",
        "from sklearn import metrics\n",
        "\n",
        "import matplotlib.pyplot as plt\n",
        "from matplotlib.colors import ListedColormap"
      ]
    },
    {
      "cell_type": "markdown",
      "metadata": {
        "id": "uh4VZ-xrrUNH"
      },
      "source": [
        "# **LOADING DATA**"
      ]
    },
    {
      "cell_type": "code",
      "execution_count": null,
      "metadata": {
        "colab": {
          "base_uri": "https://localhost:8080/",
          "height": 206
        },
        "id": "jhm2_ZHOpQNE",
        "outputId": "d6492853-46df-444d-9177-a2600d3dd36c"
      },
      "outputs": [
        {
          "output_type": "execute_result",
          "data": {
            "text/plain": [
              "     v1                                                 v2 Unnamed: 2  \\\n",
              "0   ham  Go until jurong point, crazy.. Available only ...        NaN   \n",
              "1   ham                      Ok lar... Joking wif u oni...        NaN   \n",
              "2  spam  Free entry in 2 a wkly comp to win FA Cup fina...        NaN   \n",
              "3   ham  U dun say so early hor... U c already then say...        NaN   \n",
              "4   ham  Nah I don't think he goes to usf, he lives aro...        NaN   \n",
              "\n",
              "  Unnamed: 3 Unnamed: 4  \n",
              "0        NaN        NaN  \n",
              "1        NaN        NaN  \n",
              "2        NaN        NaN  \n",
              "3        NaN        NaN  \n",
              "4        NaN        NaN  "
            ],
            "text/html": [
              "\n",
              "  <div id=\"df-84a257e9-4720-40ba-960f-6933da2572f8\">\n",
              "    <div class=\"colab-df-container\">\n",
              "      <div>\n",
              "<style scoped>\n",
              "    .dataframe tbody tr th:only-of-type {\n",
              "        vertical-align: middle;\n",
              "    }\n",
              "\n",
              "    .dataframe tbody tr th {\n",
              "        vertical-align: top;\n",
              "    }\n",
              "\n",
              "    .dataframe thead th {\n",
              "        text-align: right;\n",
              "    }\n",
              "</style>\n",
              "<table border=\"1\" class=\"dataframe\">\n",
              "  <thead>\n",
              "    <tr style=\"text-align: right;\">\n",
              "      <th></th>\n",
              "      <th>v1</th>\n",
              "      <th>v2</th>\n",
              "      <th>Unnamed: 2</th>\n",
              "      <th>Unnamed: 3</th>\n",
              "      <th>Unnamed: 4</th>\n",
              "    </tr>\n",
              "  </thead>\n",
              "  <tbody>\n",
              "    <tr>\n",
              "      <th>0</th>\n",
              "      <td>ham</td>\n",
              "      <td>Go until jurong point, crazy.. Available only ...</td>\n",
              "      <td>NaN</td>\n",
              "      <td>NaN</td>\n",
              "      <td>NaN</td>\n",
              "    </tr>\n",
              "    <tr>\n",
              "      <th>1</th>\n",
              "      <td>ham</td>\n",
              "      <td>Ok lar... Joking wif u oni...</td>\n",
              "      <td>NaN</td>\n",
              "      <td>NaN</td>\n",
              "      <td>NaN</td>\n",
              "    </tr>\n",
              "    <tr>\n",
              "      <th>2</th>\n",
              "      <td>spam</td>\n",
              "      <td>Free entry in 2 a wkly comp to win FA Cup fina...</td>\n",
              "      <td>NaN</td>\n",
              "      <td>NaN</td>\n",
              "      <td>NaN</td>\n",
              "    </tr>\n",
              "    <tr>\n",
              "      <th>3</th>\n",
              "      <td>ham</td>\n",
              "      <td>U dun say so early hor... U c already then say...</td>\n",
              "      <td>NaN</td>\n",
              "      <td>NaN</td>\n",
              "      <td>NaN</td>\n",
              "    </tr>\n",
              "    <tr>\n",
              "      <th>4</th>\n",
              "      <td>ham</td>\n",
              "      <td>Nah I don't think he goes to usf, he lives aro...</td>\n",
              "      <td>NaN</td>\n",
              "      <td>NaN</td>\n",
              "      <td>NaN</td>\n",
              "    </tr>\n",
              "  </tbody>\n",
              "</table>\n",
              "</div>\n",
              "      <button class=\"colab-df-convert\" onclick=\"convertToInteractive('df-84a257e9-4720-40ba-960f-6933da2572f8')\"\n",
              "              title=\"Convert this dataframe to an interactive table.\"\n",
              "              style=\"display:none;\">\n",
              "        \n",
              "  <svg xmlns=\"http://www.w3.org/2000/svg\" height=\"24px\"viewBox=\"0 0 24 24\"\n",
              "       width=\"24px\">\n",
              "    <path d=\"M0 0h24v24H0V0z\" fill=\"none\"/>\n",
              "    <path d=\"M18.56 5.44l.94 2.06.94-2.06 2.06-.94-2.06-.94-.94-2.06-.94 2.06-2.06.94zm-11 1L8.5 8.5l.94-2.06 2.06-.94-2.06-.94L8.5 2.5l-.94 2.06-2.06.94zm10 10l.94 2.06.94-2.06 2.06-.94-2.06-.94-.94-2.06-.94 2.06-2.06.94z\"/><path d=\"M17.41 7.96l-1.37-1.37c-.4-.4-.92-.59-1.43-.59-.52 0-1.04.2-1.43.59L10.3 9.45l-7.72 7.72c-.78.78-.78 2.05 0 2.83L4 21.41c.39.39.9.59 1.41.59.51 0 1.02-.2 1.41-.59l7.78-7.78 2.81-2.81c.8-.78.8-2.07 0-2.86zM5.41 20L4 18.59l7.72-7.72 1.47 1.35L5.41 20z\"/>\n",
              "  </svg>\n",
              "      </button>\n",
              "      \n",
              "  <style>\n",
              "    .colab-df-container {\n",
              "      display:flex;\n",
              "      flex-wrap:wrap;\n",
              "      gap: 12px;\n",
              "    }\n",
              "\n",
              "    .colab-df-convert {\n",
              "      background-color: #E8F0FE;\n",
              "      border: none;\n",
              "      border-radius: 50%;\n",
              "      cursor: pointer;\n",
              "      display: none;\n",
              "      fill: #1967D2;\n",
              "      height: 32px;\n",
              "      padding: 0 0 0 0;\n",
              "      width: 32px;\n",
              "    }\n",
              "\n",
              "    .colab-df-convert:hover {\n",
              "      background-color: #E2EBFA;\n",
              "      box-shadow: 0px 1px 2px rgba(60, 64, 67, 0.3), 0px 1px 3px 1px rgba(60, 64, 67, 0.15);\n",
              "      fill: #174EA6;\n",
              "    }\n",
              "\n",
              "    [theme=dark] .colab-df-convert {\n",
              "      background-color: #3B4455;\n",
              "      fill: #D2E3FC;\n",
              "    }\n",
              "\n",
              "    [theme=dark] .colab-df-convert:hover {\n",
              "      background-color: #434B5C;\n",
              "      box-shadow: 0px 1px 3px 1px rgba(0, 0, 0, 0.15);\n",
              "      filter: drop-shadow(0px 1px 2px rgba(0, 0, 0, 0.3));\n",
              "      fill: #FFFFFF;\n",
              "    }\n",
              "  </style>\n",
              "\n",
              "      <script>\n",
              "        const buttonEl =\n",
              "          document.querySelector('#df-84a257e9-4720-40ba-960f-6933da2572f8 button.colab-df-convert');\n",
              "        buttonEl.style.display =\n",
              "          google.colab.kernel.accessAllowed ? 'block' : 'none';\n",
              "\n",
              "        async function convertToInteractive(key) {\n",
              "          const element = document.querySelector('#df-84a257e9-4720-40ba-960f-6933da2572f8');\n",
              "          const dataTable =\n",
              "            await google.colab.kernel.invokeFunction('convertToInteractive',\n",
              "                                                     [key], {});\n",
              "          if (!dataTable) return;\n",
              "\n",
              "          const docLinkHtml = 'Like what you see? Visit the ' +\n",
              "            '<a target=\"_blank\" href=https://colab.research.google.com/notebooks/data_table.ipynb>data table notebook</a>'\n",
              "            + ' to learn more about interactive tables.';\n",
              "          element.innerHTML = '';\n",
              "          dataTable['output_type'] = 'display_data';\n",
              "          await google.colab.output.renderOutput(dataTable, element);\n",
              "          const docLink = document.createElement('div');\n",
              "          docLink.innerHTML = docLinkHtml;\n",
              "          element.appendChild(docLink);\n",
              "        }\n",
              "      </script>\n",
              "    </div>\n",
              "  </div>\n",
              "  "
            ]
          },
          "metadata": {},
          "execution_count": 2
        }
      ],
      "source": [
        "data = pd.read_csv(\"spam.csv\",encoding='latin-1')\n",
        "data.head()"
      ]
    },
    {
      "cell_type": "code",
      "execution_count": null,
      "metadata": {
        "colab": {
          "base_uri": "https://localhost:8080/"
        },
        "id": "xMh-O3BDp-Kl",
        "outputId": "e02a12e5-2ee5-4ded-e5e8-d2f9b99e01b4"
      },
      "outputs": [
        {
          "output_type": "stream",
          "name": "stdout",
          "text": [
            "<class 'pandas.core.frame.DataFrame'>\n",
            "RangeIndex: 5572 entries, 0 to 5571\n",
            "Data columns (total 5 columns):\n",
            " #   Column      Non-Null Count  Dtype \n",
            "---  ------      --------------  ----- \n",
            " 0   v1          5572 non-null   object\n",
            " 1   v2          5572 non-null   object\n",
            " 2   Unnamed: 2  50 non-null     object\n",
            " 3   Unnamed: 3  12 non-null     object\n",
            " 4   Unnamed: 4  6 non-null      object\n",
            "dtypes: object(5)\n",
            "memory usage: 217.8+ KB\n"
          ]
        }
      ],
      "source": [
        "#data = pd.read_csv(\"spam.csv\", encoding='latin-1')\n",
        "data.info()"
      ]
    },
    {
      "cell_type": "code",
      "execution_count": null,
      "metadata": {
        "colab": {
          "base_uri": "https://localhost:8080/",
          "height": 206
        },
        "id": "iXiGeWofrFeQ",
        "outputId": "b397ea7e-215b-41f2-fbf7-a4bd81178ec8"
      },
      "outputs": [
        {
          "output_type": "execute_result",
          "data": {
            "text/plain": [
              "  Target                                               Text\n",
              "0    ham  Go until jurong point, crazy.. Available only ...\n",
              "1    ham                      Ok lar... Joking wif u oni...\n",
              "2   spam  Free entry in 2 a wkly comp to win FA Cup fina...\n",
              "3    ham  U dun say so early hor... U c already then say...\n",
              "4    ham  Nah I don't think he goes to usf, he lives aro..."
            ],
            "text/html": [
              "\n",
              "  <div id=\"df-e6403e8d-6d04-4404-9dce-5e8941a31896\">\n",
              "    <div class=\"colab-df-container\">\n",
              "      <div>\n",
              "<style scoped>\n",
              "    .dataframe tbody tr th:only-of-type {\n",
              "        vertical-align: middle;\n",
              "    }\n",
              "\n",
              "    .dataframe tbody tr th {\n",
              "        vertical-align: top;\n",
              "    }\n",
              "\n",
              "    .dataframe thead th {\n",
              "        text-align: right;\n",
              "    }\n",
              "</style>\n",
              "<table border=\"1\" class=\"dataframe\">\n",
              "  <thead>\n",
              "    <tr style=\"text-align: right;\">\n",
              "      <th></th>\n",
              "      <th>Target</th>\n",
              "      <th>Text</th>\n",
              "    </tr>\n",
              "  </thead>\n",
              "  <tbody>\n",
              "    <tr>\n",
              "      <th>0</th>\n",
              "      <td>ham</td>\n",
              "      <td>Go until jurong point, crazy.. Available only ...</td>\n",
              "    </tr>\n",
              "    <tr>\n",
              "      <th>1</th>\n",
              "      <td>ham</td>\n",
              "      <td>Ok lar... Joking wif u oni...</td>\n",
              "    </tr>\n",
              "    <tr>\n",
              "      <th>2</th>\n",
              "      <td>spam</td>\n",
              "      <td>Free entry in 2 a wkly comp to win FA Cup fina...</td>\n",
              "    </tr>\n",
              "    <tr>\n",
              "      <th>3</th>\n",
              "      <td>ham</td>\n",
              "      <td>U dun say so early hor... U c already then say...</td>\n",
              "    </tr>\n",
              "    <tr>\n",
              "      <th>4</th>\n",
              "      <td>ham</td>\n",
              "      <td>Nah I don't think he goes to usf, he lives aro...</td>\n",
              "    </tr>\n",
              "  </tbody>\n",
              "</table>\n",
              "</div>\n",
              "      <button class=\"colab-df-convert\" onclick=\"convertToInteractive('df-e6403e8d-6d04-4404-9dce-5e8941a31896')\"\n",
              "              title=\"Convert this dataframe to an interactive table.\"\n",
              "              style=\"display:none;\">\n",
              "        \n",
              "  <svg xmlns=\"http://www.w3.org/2000/svg\" height=\"24px\"viewBox=\"0 0 24 24\"\n",
              "       width=\"24px\">\n",
              "    <path d=\"M0 0h24v24H0V0z\" fill=\"none\"/>\n",
              "    <path d=\"M18.56 5.44l.94 2.06.94-2.06 2.06-.94-2.06-.94-.94-2.06-.94 2.06-2.06.94zm-11 1L8.5 8.5l.94-2.06 2.06-.94-2.06-.94L8.5 2.5l-.94 2.06-2.06.94zm10 10l.94 2.06.94-2.06 2.06-.94-2.06-.94-.94-2.06-.94 2.06-2.06.94z\"/><path d=\"M17.41 7.96l-1.37-1.37c-.4-.4-.92-.59-1.43-.59-.52 0-1.04.2-1.43.59L10.3 9.45l-7.72 7.72c-.78.78-.78 2.05 0 2.83L4 21.41c.39.39.9.59 1.41.59.51 0 1.02-.2 1.41-.59l7.78-7.78 2.81-2.81c.8-.78.8-2.07 0-2.86zM5.41 20L4 18.59l7.72-7.72 1.47 1.35L5.41 20z\"/>\n",
              "  </svg>\n",
              "      </button>\n",
              "      \n",
              "  <style>\n",
              "    .colab-df-container {\n",
              "      display:flex;\n",
              "      flex-wrap:wrap;\n",
              "      gap: 12px;\n",
              "    }\n",
              "\n",
              "    .colab-df-convert {\n",
              "      background-color: #E8F0FE;\n",
              "      border: none;\n",
              "      border-radius: 50%;\n",
              "      cursor: pointer;\n",
              "      display: none;\n",
              "      fill: #1967D2;\n",
              "      height: 32px;\n",
              "      padding: 0 0 0 0;\n",
              "      width: 32px;\n",
              "    }\n",
              "\n",
              "    .colab-df-convert:hover {\n",
              "      background-color: #E2EBFA;\n",
              "      box-shadow: 0px 1px 2px rgba(60, 64, 67, 0.3), 0px 1px 3px 1px rgba(60, 64, 67, 0.15);\n",
              "      fill: #174EA6;\n",
              "    }\n",
              "\n",
              "    [theme=dark] .colab-df-convert {\n",
              "      background-color: #3B4455;\n",
              "      fill: #D2E3FC;\n",
              "    }\n",
              "\n",
              "    [theme=dark] .colab-df-convert:hover {\n",
              "      background-color: #434B5C;\n",
              "      box-shadow: 0px 1px 3px 1px rgba(0, 0, 0, 0.15);\n",
              "      filter: drop-shadow(0px 1px 2px rgba(0, 0, 0, 0.3));\n",
              "      fill: #FFFFFF;\n",
              "    }\n",
              "  </style>\n",
              "\n",
              "      <script>\n",
              "        const buttonEl =\n",
              "          document.querySelector('#df-e6403e8d-6d04-4404-9dce-5e8941a31896 button.colab-df-convert');\n",
              "        buttonEl.style.display =\n",
              "          google.colab.kernel.accessAllowed ? 'block' : 'none';\n",
              "\n",
              "        async function convertToInteractive(key) {\n",
              "          const element = document.querySelector('#df-e6403e8d-6d04-4404-9dce-5e8941a31896');\n",
              "          const dataTable =\n",
              "            await google.colab.kernel.invokeFunction('convertToInteractive',\n",
              "                                                     [key], {});\n",
              "          if (!dataTable) return;\n",
              "\n",
              "          const docLinkHtml = 'Like what you see? Visit the ' +\n",
              "            '<a target=\"_blank\" href=https://colab.research.google.com/notebooks/data_table.ipynb>data table notebook</a>'\n",
              "            + ' to learn more about interactive tables.';\n",
              "          element.innerHTML = '';\n",
              "          dataTable['output_type'] = 'display_data';\n",
              "          await google.colab.output.renderOutput(dataTable, element);\n",
              "          const docLink = document.createElement('div');\n",
              "          docLink.innerHTML = docLinkHtml;\n",
              "          element.appendChild(docLink);\n",
              "        }\n",
              "      </script>\n",
              "    </div>\n",
              "  </div>\n",
              "  "
            ]
          },
          "metadata": {},
          "execution_count": 4
        }
      ],
      "source": [
        "# Dropping the redundent looking collumns (for this project)\n",
        "to_drop = [\"Unnamed: 2\",\"Unnamed: 3\",\"Unnamed: 4\"]\n",
        "data = data.drop(data[to_drop], axis=1)\n",
        "# Renaming the columns because I feel fancy today \n",
        "data.rename(columns = {\"v1\":\"Target\", \"v2\":\"Text\"}, inplace = True)\n",
        "data.head()"
      ]
    },
    {
      "cell_type": "markdown",
      "metadata": {
        "id": "u4RxA-N3roi8"
      },
      "source": [
        "*Bộ dữ liệu bao gồm 5.574 tin nhắn bằng tiếng Anh. Dữ liệu được chỉ định là ham hoặc thư rác. DataFrame có hai cột. Cột đầu tiên là \"Target\" biểu thị lớp tin nhắn là ham hoặc spam và cột \"Text\" thứ hai là chuỗi văn bản.*"
      ]
    },
    {
      "cell_type": "markdown",
      "metadata": {
        "id": "F4ZStZrLr8nv"
      },
      "source": [
        "# **DATA EXPLORATION**"
      ]
    },
    {
      "cell_type": "code",
      "execution_count": null,
      "metadata": {
        "colab": {
          "base_uri": "https://localhost:8080/",
          "height": 421
        },
        "id": "Eg7XGA0EsCS3",
        "outputId": "30609a39-af94-4bcb-f6d7-3db5f5f8ccc4"
      },
      "outputs": [
        {
          "output_type": "execute_result",
          "data": {
            "text/plain": [
              "Text(0, 0.5, 'Number of Data points')"
            ]
          },
          "metadata": {},
          "execution_count": 5
        },
        {
          "output_type": "display_data",
          "data": {
            "text/plain": [
              "<Figure size 432x432 with 1 Axes>"
            ],
            "image/png": "[encoded data removed]"
          },
          "metadata": {
            "needs_background": "light"
          }
        }
      ],
      "source": [
        "#Palette\n",
        "cols= [\"#41DFEF\", \"#FFBD59\"] \n",
        "#first of all let us evaluate the target and find out if our data is imbalanced or not\n",
        "plt.figure(figsize=(6,6))\n",
        "fg = sns.countplot(x= data[\"Target\"], palette= cols)\n",
        "fg.set_title(\"Count Plot of Classes\", color=\"#58508d\")\n",
        "fg.set_xlabel(\"Classes\", color=\"#58508d\")\n",
        "fg.set_ylabel(\"Number of Data points\", color=\"#58508d\")"
      ]
    },
    {
      "cell_type": "markdown",
      "metadata": {
        "id": "o1gERyz4smIc"
      },
      "source": [
        "*Nhận xét: Từ biểu đồ ở trên, sự mất cân bằng dữ liệu là khá rõ ràng.*"
      ]
    },
    {
      "cell_type": "markdown",
      "metadata": {
        "id": "MaZtYCfxsvnl"
      },
      "source": [
        "## **FEATURE ENGINEERING**"
      ]
    },
    {
      "cell_type": "markdown",
      "metadata": {
        "id": "Rif8sszV0Wsb"
      },
      "source": [
        "Với mục đích khám phá dữ liệu, chúng ta sẽ tạo các thuộc tính mới\n",
        "- No_of_Characters: Số ký tự trong tin nhắn văn bản\n",
        "- No_of_Words: Số từ trong tin nhắn văn bản\n",
        "- No_of_sentence: Số câu trong tin nhắn văn bản"
      ]
    },
    {
      "cell_type": "code",
      "execution_count": null,
      "metadata": {
        "colab": {
          "base_uri": "https://localhost:8080/"
        },
        "id": "hMcwnBuN1yCU",
        "outputId": "facf0e25-604c-4d7c-db06-458f2a9ed845"
      },
      "outputs": [
        {
          "output_type": "stream",
          "name": "stderr",
          "text": [
            "[nltk_data] Downloading package punkt to /root/nltk_data...\n",
            "[nltk_data]   Unzipping tokenizers/punkt.zip.\n"
          ]
        },
        {
          "output_type": "execute_result",
          "data": {
            "text/plain": [
              "True"
            ]
          },
          "metadata": {},
          "execution_count": 6
        }
      ],
      "source": [
        "import nltk\n",
        "nltk.download('punkt')"
      ]
    },
    {
      "cell_type": "code",
      "execution_count": null,
      "metadata": {
        "colab": {
          "base_uri": "https://localhost:8080/",
          "height": 143
        },
        "id": "eW34hTtRM9al",
        "outputId": "8ecf7034-d5b7-497c-d5b2-3f491ba73af2"
      },
      "outputs": [
        {
          "output_type": "execute_result",
          "data": {
            "text/plain": [
              "                   count       mean        std  min   25%   50%    75%    max\n",
              "No_of_Characters  5572.0  80.118808  59.690841  2.0  36.0  61.0  121.0  910.0\n",
              "No_of_Words       5572.0  18.695621  13.742587  1.0   9.0  15.0   27.0  220.0\n",
              "No_of_sentence    5572.0   1.970747   1.417778  1.0   1.0   1.0    2.0   28.0"
            ],
            "text/html": [
              "\n",
              "  <div id=\"df-b8a435e9-5a53-4018-a013-f06155ad4f8c\">\n",
              "    <div class=\"colab-df-container\">\n",
              "      <div>\n",
              "<style scoped>\n",
              "    .dataframe tbody tr th:only-of-type {\n",
              "        vertical-align: middle;\n",
              "    }\n",
              "\n",
              "    .dataframe tbody tr th {\n",
              "        vertical-align: top;\n",
              "    }\n",
              "\n",
              "    .dataframe thead th {\n",
              "        text-align: right;\n",
              "    }\n",
              "</style>\n",
              "<table border=\"1\" class=\"dataframe\">\n",
              "  <thead>\n",
              "    <tr style=\"text-align: right;\">\n",
              "      <th></th>\n",
              "      <th>count</th>\n",
              "      <th>mean</th>\n",
              "      <th>std</th>\n",
              "      <th>min</th>\n",
              "      <th>25%</th>\n",
              "      <th>50%</th>\n",
              "      <th>75%</th>\n",
              "      <th>max</th>\n",
              "    </tr>\n",
              "  </thead>\n",
              "  <tbody>\n",
              "    <tr>\n",
              "      <th>No_of_Characters</th>\n",
              "      <td>5572.0</td>\n",
              "      <td>80.118808</td>\n",
              "      <td>59.690841</td>\n",
              "      <td>2.0</td>\n",
              "      <td>36.0</td>\n",
              "      <td>61.0</td>\n",
              "      <td>121.0</td>\n",
              "      <td>910.0</td>\n",
              "    </tr>\n",
              "    <tr>\n",
              "      <th>No_of_Words</th>\n",
              "      <td>5572.0</td>\n",
              "      <td>18.695621</td>\n",
              "      <td>13.742587</td>\n",
              "      <td>1.0</td>\n",
              "      <td>9.0</td>\n",
              "      <td>15.0</td>\n",
              "      <td>27.0</td>\n",
              "      <td>220.0</td>\n",
              "    </tr>\n",
              "    <tr>\n",
              "      <th>No_of_sentence</th>\n",
              "      <td>5572.0</td>\n",
              "      <td>1.970747</td>\n",
              "      <td>1.417778</td>\n",
              "      <td>1.0</td>\n",
              "      <td>1.0</td>\n",
              "      <td>1.0</td>\n",
              "      <td>2.0</td>\n",
              "      <td>28.0</td>\n",
              "    </tr>\n",
              "  </tbody>\n",
              "</table>\n",
              "</div>\n",
              "      <button class=\"colab-df-convert\" onclick=\"convertToInteractive('df-b8a435e9-5a53-4018-a013-f06155ad4f8c')\"\n",
              "              title=\"Convert this dataframe to an interactive table.\"\n",
              "              style=\"display:none;\">\n",
              "        \n",
              "  <svg xmlns=\"http://www.w3.org/2000/svg\" height=\"24px\"viewBox=\"0 0 24 24\"\n",
              "       width=\"24px\">\n",
              "    <path d=\"M0 0h24v24H0V0z\" fill=\"none\"/>\n",
              "    <path d=\"M18.56 5.44l.94 2.06.94-2.06 2.06-.94-2.06-.94-.94-2.06-.94 2.06-2.06.94zm-11 1L8.5 8.5l.94-2.06 2.06-.94-2.06-.94L8.5 2.5l-.94 2.06-2.06.94zm10 10l.94 2.06.94-2.06 2.06-.94-2.06-.94-.94-2.06-.94 2.06-2.06.94z\"/><path d=\"M17.41 7.96l-1.37-1.37c-.4-.4-.92-.59-1.43-.59-.52 0-1.04.2-1.43.59L10.3 9.45l-7.72 7.72c-.78.78-.78 2.05 0 2.83L4 21.41c.39.39.9.59 1.41.59.51 0 1.02-.2 1.41-.59l7.78-7.78 2.81-2.81c.8-.78.8-2.07 0-2.86zM5.41 20L4 18.59l7.72-7.72 1.47 1.35L5.41 20z\"/>\n",
              "  </svg>\n",
              "      </button>\n",
              "      \n",
              "  <style>\n",
              "    .colab-df-container {\n",
              "      display:flex;\n",
              "      flex-wrap:wrap;\n",
              "      gap: 12px;\n",
              "    }\n",
              "\n",
              "    .colab-df-convert {\n",
              "      background-color: #E8F0FE;\n",
              "      border: none;\n",
              "      border-radius: 50%;\n",
              "      cursor: pointer;\n",
              "      display: none;\n",
              "      fill: #1967D2;\n",
              "      height: 32px;\n",
              "      padding: 0 0 0 0;\n",
              "      width: 32px;\n",
              "    }\n",
              "\n",
              "    .colab-df-convert:hover {\n",
              "      background-color: #E2EBFA;\n",
              "      box-shadow: 0px 1px 2px rgba(60, 64, 67, 0.3), 0px 1px 3px 1px rgba(60, 64, 67, 0.15);\n",
              "      fill: #174EA6;\n",
              "    }\n",
              "\n",
              "    [theme=dark] .colab-df-convert {\n",
              "      background-color: #3B4455;\n",
              "      fill: #D2E3FC;\n",
              "    }\n",
              "\n",
              "    [theme=dark] .colab-df-convert:hover {\n",
              "      background-color: #434B5C;\n",
              "      box-shadow: 0px 1px 3px 1px rgba(0, 0, 0, 0.15);\n",
              "      filter: drop-shadow(0px 1px 2px rgba(0, 0, 0, 0.3));\n",
              "      fill: #FFFFFF;\n",
              "    }\n",
              "  </style>\n",
              "\n",
              "      <script>\n",
              "        const buttonEl =\n",
              "          document.querySelector('#df-b8a435e9-5a53-4018-a013-f06155ad4f8c button.colab-df-convert');\n",
              "        buttonEl.style.display =\n",
              "          google.colab.kernel.accessAllowed ? 'block' : 'none';\n",
              "\n",
              "        async function convertToInteractive(key) {\n",
              "          const element = document.querySelector('#df-b8a435e9-5a53-4018-a013-f06155ad4f8c');\n",
              "          const dataTable =\n",
              "            await google.colab.kernel.invokeFunction('convertToInteractive',\n",
              "                                                     [key], {});\n",
              "          if (!dataTable) return;\n",
              "\n",
              "          const docLinkHtml = 'Like what you see? Visit the ' +\n",
              "            '<a target=\"_blank\" href=https://colab.research.google.com/notebooks/data_table.ipynb>data table notebook</a>'\n",
              "            + ' to learn more about interactive tables.';\n",
              "          element.innerHTML = '';\n",
              "          dataTable['output_type'] = 'display_data';\n",
              "          await google.colab.output.renderOutput(dataTable, element);\n",
              "          const docLink = document.createElement('div');\n",
              "          docLink.innerHTML = docLinkHtml;\n",
              "          element.appendChild(docLink);\n",
              "        }\n",
              "      </script>\n",
              "    </div>\n",
              "  </div>\n",
              "  "
            ]
          },
          "metadata": {},
          "execution_count": 7
        }
      ],
      "source": [
        "#Adding a column of numbers of charachters,words and sentences in each msg\n",
        "data[\"No_of_Characters\"] = data[\"Text\"].apply(len)\n",
        "data[\"No_of_Words\"]=data.apply(lambda row: nltk.word_tokenize(row[\"Text\"]), axis=1).apply(len)\n",
        "data[\"No_of_sentence\"]=data.apply(lambda row: nltk.sent_tokenize(row[\"Text\"]), axis=1).apply(len)\n",
        "\n",
        "data.describe().T"
      ]
    },
    {
      "cell_type": "code",
      "execution_count": null,
      "metadata": {
        "colab": {
          "base_uri": "https://localhost:8080/",
          "height": 567
        },
        "id": "MTq6Z-p217FE",
        "outputId": "9d540ad4-6d46-4ec7-fb0b-c728ebee137d"
      },
      "outputs": [
        {
          "output_type": "display_data",
          "data": {
            "text/plain": [
              "<Figure size 864x576 with 0 Axes>"
            ]
          },
          "metadata": {}
        },
        {
          "output_type": "display_data",
          "data": {
            "text/plain": [
              "<Figure size 603.25x540 with 12 Axes>"
            ],
            "image/png": "[encoded data removed]"
          },
          "metadata": {
            "needs_background": "light"
          }
        }
      ],
      "source": [
        "plt.figure(figsize=(12,8))\n",
        "fg = sns.pairplot(data=data, hue=\"Target\",palette=cols)\n",
        "plt.show(fg)"
      ]
    },
    {
      "cell_type": "markdown",
      "metadata": {
        "id": "WGWC7EUi2Ze5"
      },
      "source": [
        "*Nhận xét: Từ biểu đồ, chúng ta có thể thấy một vài ngoại lệ trong tất cả các lớp ham. Điều này thật thú vị vì chúng ta có thể đặt một giới hạn cho một trong những điều này. Vì về cơ bản chúng chỉ ra cùng một điều, tức là độ dài của SMS.*"
      ]
    },
    {
      "cell_type": "markdown",
      "metadata": {
        "id": "Un9y732D213V"
      },
      "source": [
        "## **OUTLIER DETECTION**"
      ]
    },
    {
      "cell_type": "code",
      "execution_count": null,
      "metadata": {
        "colab": {
          "base_uri": "https://localhost:8080/"
        },
        "id": "UesWWUKp26i-",
        "outputId": "79813858-39d1-42fe-b687-e5a6b3cb12d5"
      },
      "outputs": [
        {
          "output_type": "execute_result",
          "data": {
            "text/plain": [
              "(5548, 5)"
            ]
          },
          "metadata": {},
          "execution_count": 9
        }
      ],
      "source": [
        "#Dropping the outliers. \n",
        "data = data[(data[\"No_of_Characters\"]<350)]\n",
        "data.shape"
      ]
    },
    {
      "cell_type": "code",
      "execution_count": null,
      "metadata": {
        "colab": {
          "base_uri": "https://localhost:8080/",
          "height": 567
        },
        "id": "mKPOIA1t29xu",
        "outputId": "fceb5fbb-2a91-4101-ed83-a9570305edf1"
      },
      "outputs": [
        {
          "output_type": "display_data",
          "data": {
            "text/plain": [
              "<Figure size 864x576 with 0 Axes>"
            ]
          },
          "metadata": {}
        },
        {
          "output_type": "display_data",
          "data": {
            "text/plain": [
              "<Figure size 603.25x540 with 12 Axes>"
            ],
            "image/png": "[encoded data removed]"
          },
          "metadata": {
            "needs_background": "light"
          }
        }
      ],
      "source": [
        "plt.figure(figsize=(12,8))\n",
        "fg = sns.pairplot(data=data, hue=\"Target\",palette=cols)\n",
        "plt.show(fg)"
      ]
    },
    {
      "cell_type": "markdown",
      "metadata": {
        "id": "9M78z2vu3QRx"
      },
      "source": [
        "# **DATA PREPROCESSING**"
      ]
    },
    {
      "cell_type": "markdown",
      "metadata": {
        "id": "hg2pOEFm3ZK_"
      },
      "source": [
        "Cleaning text ➡ Tokenization ➡ Removing Stopwords ➡ Lemmatization"
      ]
    },
    {
      "cell_type": "markdown",
      "metadata": {
        "id": "AIJ3sZbY4S-F"
      },
      "source": [
        "## CLEANING TEXT - Làm sạch văn bản\n"
      ]
    },
    {
      "cell_type": "markdown",
      "metadata": {
        "id": "72LN98Y24q9V"
      },
      "source": [
        "Quá trình làm sạch dữ liệu NLP là rất quan trọng. Máy tính không hiểu văn bản. Đối với máy tính, nó chỉ là một cụm ký hiệu. Để tiếp tục xử lý dữ liệu, chúng tôi cần làm cho dữ liệu sạch hơn.\n",
        "- Trong bước đầu tiên, chúng tôi chỉ trích xuất các ký tự chữ cái, chúng tôi loại bỏ dấu câu và số.\n",
        "- Trong bước tiếp theo, chúng tôi sẽ chuyển đổi tất cả các ký tự thành chữ thường.\n",
        "\n",
        "Văn bản này sau đó sẽ được sử dụng trong phân tích kỹ thuật tiếp theo"
      ]
    },
    {
      "cell_type": "code",
      "execution_count": null,
      "metadata": {
        "colab": {
          "base_uri": "https://localhost:8080/"
        },
        "id": "5LDWZjxg49Ov",
        "outputId": "75b1d079-7949-4c0d-f300-1057b7a990ed"
      },
      "outputs": [
        {
          "output_type": "stream",
          "name": "stdout",
          "text": [
            "\u001b[1m\u001b[45;1m The First 5 Texts:\u001b[0m\n",
            "Go until jurong point, crazy.. Available only in bugis n great world la e buffet... Cine there got amore wat...\n",
            "Ok lar... Joking wif u oni...\n",
            "Free entry in 2 a wkly comp to win FA Cup final tkts 21st May 2005. Text FA to 87121 to receive entry question(std txt rate)T&C's apply 08452810075over18's\n",
            "U dun say so early hor... U c already then say...\n",
            "Nah I don't think he goes to usf, he lives around here though\n"
          ]
        }
      ],
      "source": [
        "#Lets have a look at a sample of texts before cleaning\n",
        "print(\"\\033[1m\\u001b[45;1m The First 5 Texts:\\033[0m\",*data[\"Text\"][:5], sep = \"\\n\")"
      ]
    },
    {
      "cell_type": "code",
      "execution_count": null,
      "metadata": {
        "colab": {
          "base_uri": "https://localhost:8080/"
        },
        "id": "ndzKDIeN5CUU",
        "outputId": "30c62713-c30e-4684-efa4-e5a5d14221b5"
      },
      "outputs": [
        {
          "output_type": "stream",
          "name": "stdout",
          "text": [
            "\u001b[1m\u001b[45;1m The First 5 Texts after cleaning:\u001b[0m\n",
            "go until jurong point crazy available only in bugis n great world la e buffet cine there got amore wat\n",
            "ok lar joking wif u oni\n",
            "free entry in a wkly comp to win fa cup final tkts st may text fa to to receive entry question std txt rate t c s apply over s\n",
            "u dun say so early hor u c already then say\n",
            "nah i don t think he goes to usf he lives around here though\n"
          ]
        }
      ],
      "source": [
        "# Defining a function to clean up the text\n",
        "def Clean(Text):\n",
        "    sms = re.sub('[^a-zA-Z]', ' ', Text) #Replacing all non-alphabetic characters with a space\n",
        "    sms = sms.lower() #converting to lowecase\n",
        "    sms = sms.split()\n",
        "    sms = ' '.join(sms)\n",
        "    return sms\n",
        "\n",
        "data[\"Clean_Text\"] = data[\"Text\"].apply(Clean)\n",
        "#Lets have a look at a sample of texts after cleaning\n",
        "print(\"\\033[1m\\u001b[45;1m The First 5 Texts after cleaning:\\033[0m\",*data[\"Clean_Text\"][:5], sep = \"\\n\")"
      ]
    },
    {
      "cell_type": "markdown",
      "metadata": {
        "id": "LyBPZtWt_xyB"
      },
      "source": [
        "## TOKENIZATION"
      ]
    },
    {
      "cell_type": "markdown",
      "metadata": {
        "id": "EDxREHNV_u2g"
      },
      "source": [
        "Mã hóa là chia nhỏ dữ liệu phức tạp thành các đơn vị nhỏ hơn được gọi là mã thông báo. Nó có thể được thực hiện bằng cách tách đoạn văn thành câu và câu thành từ. Tôi đang tách Clean_Text thành các từ ở bước này."
      ]
    },
    {
      "cell_type": "code",
      "execution_count": null,
      "metadata": {
        "colab": {
          "base_uri": "https://localhost:8080/"
        },
        "id": "RRXI2M5W_9aO",
        "outputId": "317721d4-3798-4b11-db54-3965512e120d"
      },
      "outputs": [
        {
          "output_type": "stream",
          "name": "stdout",
          "text": [
            "\u001b[1m\u001b[45;1m The First 5 Texts after Tokenizing:\u001b[0m\n",
            "['go', 'until', 'jurong', 'point', 'crazy', 'available', 'only', 'in', 'bugis', 'n', 'great', 'world', 'la', 'e', 'buffet', 'cine', 'there', 'got', 'amore', 'wat']\n",
            "['ok', 'lar', 'joking', 'wif', 'u', 'oni']\n",
            "['free', 'entry', 'in', 'a', 'wkly', 'comp', 'to', 'win', 'fa', 'cup', 'final', 'tkts', 'st', 'may', 'text', 'fa', 'to', 'to', 'receive', 'entry', 'question', 'std', 'txt', 'rate', 't', 'c', 's', 'apply', 'over', 's']\n",
            "['u', 'dun', 'say', 'so', 'early', 'hor', 'u', 'c', 'already', 'then', 'say']\n",
            "['nah', 'i', 'don', 't', 'think', 'he', 'goes', 'to', 'usf', 'he', 'lives', 'around', 'here', 'though']\n"
          ]
        }
      ],
      "source": [
        "data[\"Tokenize_Text\"]=data.apply(lambda row: nltk.word_tokenize(row[\"Clean_Text\"]), axis=1)\n",
        "\n",
        "print(\"\\033[1m\\u001b[45;1m The First 5 Texts after Tokenizing:\\033[0m\",*data[\"Tokenize_Text\"][:5], sep = \"\\n\")"
      ]
    },
    {
      "cell_type": "markdown",
      "metadata": {
        "id": "VYedM7tXBLIw"
      },
      "source": [
        "## REMOVING STOPWORDS"
      ]
    },
    {
      "cell_type": "markdown",
      "metadata": {
        "id": "tC23ZEALBUWQ"
      },
      "source": [
        "Từ dừng là những từ xuất hiện thường xuyên (chẳng hạn như ít, là, an, v.v.). Những từ này giữ ý nghĩa trong cấu trúc câu, nhưng không đóng góp nhiều vào quá trình xử lý ngôn ngữ trong NLP. Với mục đích loại bỏ phần dư thừa trong quá trình xử lý của chúng tôi, tôi sẽ loại bỏ những phần đó. Thư viện NLTK có một tập hợp các từ dừng mặc định mà chúng tôi sẽ xóa."
      ]
    },
    {
      "cell_type": "code",
      "execution_count": null,
      "metadata": {
        "colab": {
          "base_uri": "https://localhost:8080/"
        },
        "id": "TgYQ_6TXBkvC",
        "outputId": "d040ecee-8032-4c00-c1c4-fbe7ffd4786e"
      },
      "outputs": [
        {
          "output_type": "stream",
          "name": "stderr",
          "text": [
            "[nltk_data] Downloading package stopwords to /root/nltk_data...\n",
            "[nltk_data]   Unzipping corpora/stopwords.zip.\n"
          ]
        },
        {
          "output_type": "execute_result",
          "data": {
            "text/plain": [
              "True"
            ]
          },
          "metadata": {},
          "execution_count": 14
        }
      ],
      "source": [
        "import nltk\n",
        "nltk.download('stopwords')"
      ]
    },
    {
      "cell_type": "code",
      "execution_count": null,
      "metadata": {
        "colab": {
          "base_uri": "https://localhost:8080/"
        },
        "id": "agAsFVViBeP-",
        "outputId": "f5836b7b-8e73-421d-c011-bf9b59c48177"
      },
      "outputs": [
        {
          "output_type": "stream",
          "name": "stdout",
          "text": [
            "\u001b[1m\u001b[45;1m The First 5 Texts after removing the stopwords:\u001b[0m\n",
            "['go', 'jurong', 'point', 'crazy', 'available', 'bugis', 'n', 'great', 'world', 'la', 'e', 'buffet', 'cine', 'got', 'amore', 'wat']\n",
            "['ok', 'lar', 'joking', 'wif', 'u', 'oni']\n",
            "['free', 'entry', 'wkly', 'comp', 'win', 'fa', 'cup', 'final', 'tkts', 'st', 'may', 'text', 'fa', 'receive', 'entry', 'question', 'std', 'txt', 'rate', 'c', 'apply']\n",
            "['u', 'dun', 'say', 'early', 'hor', 'u', 'c', 'already', 'say']\n",
            "['nah', 'think', 'goes', 'usf', 'lives', 'around', 'though']\n"
          ]
        }
      ],
      "source": [
        "# Removing the stopwords function\n",
        "def remove_stopwords(text):\n",
        "    stop_words = set(stopwords.words(\"english\"))\n",
        "    filtered_text = [word for word in text if word not in stop_words]\n",
        "    return filtered_text\n",
        "\n",
        "data[\"Nostopword_Text\"] = data[\"Tokenize_Text\"].apply(remove_stopwords)\n",
        "\n",
        "print(\"\\033[1m\\u001b[45;1m The First 5 Texts after removing the stopwords:\\033[0m\",*data[\"Nostopword_Text\"][:5], sep = \"\\n\")"
      ]
    },
    {
      "cell_type": "markdown",
      "metadata": {
        "id": "UoAA_xW8BxqZ"
      },
      "source": [
        "## LEMMATIZATION"
      ]
    },
    {
      "cell_type": "markdown",
      "metadata": {
        "id": "hJpeH7UmB28a"
      },
      "source": [
        "Tạo gốc là quá trình lấy dạng gốc của một từ. Thân hoặc rễ là phần mà các mối liên kết vô hướng được thêm vào. Phần gốc của một từ được tạo bằng cách loại bỏ tiền tố hoặc hậu tố của một từ. Nó quay trở lại từ nguyên của từ này. Ngôn ngữ phát triển theo thời gian. Nhiều ngôn ngữ khác nhau phân nhánh vào nhau; ví dụ, tiếng Anh là một phái sinh của tiếng Latinh. Do đó, việc đặt gốc một từ sẽ đưa nó trở lại từ gốc.\n",
        "\n",
        "lemmatization cũng chuyển một từ về dạng gốc của nó. Tuy nhiên, sự khác biệt là sự bổ sung đảm bảo rằng từ gốc thuộc về ngôn ngữ mà người ta đang xử lý, trong trường hợp của chúng ta, đó là tiếng Anh. Nếu chúng ta sử dụng lemmatization, đầu ra sẽ là tiếng Anh."
      ]
    },
    {
      "cell_type": "code",
      "execution_count": null,
      "metadata": {
        "colab": {
          "base_uri": "https://localhost:8080/"
        },
        "id": "-P7PdvZMB-g7",
        "outputId": "83794e20-6715-48ba-cc60-e0daac401573"
      },
      "outputs": [
        {
          "output_type": "stream",
          "name": "stderr",
          "text": [
            "[nltk_data] Downloading package wordnet to /root/nltk_data...\n"
          ]
        },
        {
          "output_type": "execute_result",
          "data": {
            "text/plain": [
              "True"
            ]
          },
          "metadata": {},
          "execution_count": 16
        }
      ],
      "source": [
        "import nltk\n",
        "nltk.download('wordnet')"
      ]
    },
    {
      "cell_type": "code",
      "execution_count": null,
      "metadata": {
        "colab": {
          "base_uri": "https://localhost:8080/"
        },
        "id": "6fFkLvV0CEjR",
        "outputId": "0699d4e0-677e-4579-b750-2b46f548e8eb"
      },
      "outputs": [
        {
          "output_type": "stream",
          "name": "stderr",
          "text": [
            "[nltk_data] Downloading package omw-1.4 to /root/nltk_data...\n"
          ]
        },
        {
          "output_type": "execute_result",
          "data": {
            "text/plain": [
              "True"
            ]
          },
          "metadata": {},
          "execution_count": 17
        }
      ],
      "source": [
        "import nltk\n",
        "nltk.download('omw-1.4')"
      ]
    },
    {
      "cell_type": "code",
      "execution_count": null,
      "metadata": {
        "colab": {
          "base_uri": "https://localhost:8080/"
        },
        "id": "UKrSrWa5B74G",
        "outputId": "090a1407-b9bc-4da2-d6cc-0a289c35983c"
      },
      "outputs": [
        {
          "output_type": "stream",
          "name": "stdout",
          "text": [
            "\u001b[1m\u001b[45;1m The First 5 Texts after lemitization:\u001b[0m\n",
            "['go', 'jurong', 'point', 'crazy', 'available', 'bugis', 'n', 'great', 'world', 'la', 'e', 'buffet', 'cine', 'get', 'amore', 'wat']\n",
            "['ok', 'lar', 'joke', 'wif', 'u', 'oni']\n",
            "['free', 'entry', 'wkly', 'comp', 'win', 'fa', 'cup', 'final', 'tkts', 'st', 'may', 'text', 'fa', 'receive', 'entry', 'question', 'std', 'txt', 'rate', 'c', 'apply']\n",
            "['u', 'dun', 'say', 'early', 'hor', 'u', 'c', 'already', 'say']\n",
            "['nah', 'think', 'go', 'usf', 'live', 'around', 'though']\n"
          ]
        }
      ],
      "source": [
        "lemmatizer = WordNetLemmatizer()\n",
        "# lemmatize string\n",
        "def lemmatize_word(text):\n",
        "    #word_tokens = word_tokenize(text)\n",
        "    # provide context i.e. part-of-speech\n",
        "    lemmas = [lemmatizer.lemmatize(word, pos ='v') for word in text]\n",
        "    return lemmas\n",
        "\n",
        "data[\"Lemmatized_Text\"] = data[\"Nostopword_Text\"].apply(lemmatize_word)\n",
        "print(\"\\033[1m\\u001b[45;1m The First 5 Texts after lemitization:\\033[0m\",*data[\"Lemmatized_Text\"][:5], sep = \"\\n\")"
      ]
    },
    {
      "cell_type": "markdown",
      "metadata": {
        "id": "RpsOuqpfCnfU"
      },
      "source": [
        "# **VECTORIZE**"
      ]
    },
    {
      "cell_type": "markdown",
      "metadata": {
        "id": "GkJKxLo0C3Ei"
      },
      "source": [
        "TF-IDF trong NLP là viết tắt của Term Frequency - Inverse document frequency. Trong NLP, dữ liệu được làm sạch cần được chuyển đổi thành một định dạng số trong đó mỗi từ được biểu diễn bằng một ma trận. Điều này còn được gọi là nhúng từ hoặc vector hóa từ.\n",
        "\n",
        "Tần suất thuật ngữ (TF) = (Tần suất của một thuật ngữ trong tài liệu) / (Tổng số thuật ngữ trong tài liệu) Tần suất tài liệu nghịch đảo (IDF) = log ((tổng số tài liệu) / (số tài liệu có thuật ngữ t)) I sẽ sử dụng TfidfVectorizer () để vectơ hóa dữ liệu được xử lý trước.\n",
        "\n",
        "Các bước trong Vectorizing:\n",
        "\n",
        "- Tạo một kho văn bản bị lemmatized\n",
        "- Chuyển đổi kho dữ liệu ở dạng vectơ\n",
        "- Mã hóa nhãn cho các lớp trong Target\n",
        "\n",
        "Lưu ý: Cho đến nay chúng tôi vẫn theo dõi các cột trong dữ liệu của mình với mục đích giải thích"
      ]
    },
    {
      "cell_type": "code",
      "execution_count": null,
      "metadata": {
        "id": "ZAvBuQJ_DH7-",
        "colab": {
          "base_uri": "https://localhost:8080/"
        },
        "outputId": "c29119c0-51fa-416e-cec4-275219752d97"
      },
      "outputs": [
        {
          "output_type": "stream",
          "name": "stdout",
          "text": [
            "\u001b[1m\u001b[45;1m The First 5 lines in corpus :\u001b[0m\n",
            "go jurong point crazy available bugis n great world la e buffet cine get amore wat\n",
            "ok lar joke wif u oni\n",
            "free entry wkly comp win fa cup final tkts st may text fa receive entry question std txt rate c apply\n",
            "u dun say early hor u c already say\n",
            "nah think go usf live around though\n"
          ]
        }
      ],
      "source": [
        "#Creating a corpus of text feature to encode further into vectorized form\n",
        "corpus= []\n",
        "for i in data[\"Lemmatized_Text\"]:\n",
        "    msg = ' '.join([row for row in i])\n",
        "    corpus.append(msg)\n",
        "    \n",
        "corpus[:5]\n",
        "print(\"\\033[1m\\u001b[45;1m The First 5 lines in corpus :\\033[0m\",*corpus[:5], sep = \"\\n\")"
      ]
    },
    {
      "cell_type": "code",
      "execution_count": null,
      "metadata": {
        "colab": {
          "base_uri": "https://localhost:8080/"
        },
        "id": "IkOSR_QKDLtM",
        "outputId": "9cf2e619-3e75-413a-fd58-3288e4e9c668"
      },
      "outputs": [
        {
          "output_type": "execute_result",
          "data": {
            "text/plain": [
              "dtype('float64')"
            ]
          },
          "metadata": {},
          "execution_count": 20
        }
      ],
      "source": [
        "#Changing text data in to numbers. \n",
        "tfidf = TfidfVectorizer()\n",
        "X = tfidf.fit_transform(corpus).toarray()\n",
        "#Let's have a look at our feature \n",
        "X.dtype"
      ]
    },
    {
      "cell_type": "code",
      "execution_count": null,
      "metadata": {
        "id": "kFA-7nPPDPFQ"
      },
      "outputs": [],
      "source": [
        "#Label encode the Target and use it as y\n",
        "label_encoder = LabelEncoder()\n",
        "data[\"Target\"] = label_encoder.fit_transform(data[\"Target\"])"
      ]
    },
    {
      "cell_type": "markdown",
      "metadata": {
        "id": "4Xs46vUNDShq"
      },
      "source": [
        "# **MODEL BUILDING**"
      ]
    },
    {
      "cell_type": "markdown",
      "metadata": {
        "id": "de2lWbfADX6E"
      },
      "source": [
        "Các bước liên quan đến Xây dựng Mô hình\n",
        "- Thiết lập các tính năng và nhắm mục tiêu dưới dạng X và y\n",
        "- Tách bộ kiểm tra và đào tạo\n",
        "- Xây dựng một hệ thống mô hình cho bốn bộ phân loại khác nhau.\n",
        "  1. Naïve Bayes\n",
        "  2. RandomForestClassifier\n",
        "  3. KNeighborsClassifier\n",
        "  4. Support Vector Machines\n",
        "- Phù hợp với tất cả các mô hình trên dữ liệu đào tạo\n",
        "- Nhận xác nhận chéo trên tập hợp đào tạo cho tất cả các mô hình để đảm bảo độ chính xác"
      ]
    },
    {
      "cell_type": "code",
      "execution_count": null,
      "metadata": {
        "id": "7Z1lAXdyDt7c"
      },
      "outputs": [],
      "source": [
        "#Setting values for labels and feature as y and X(we already did X in vectorizing...)\n",
        "y = data[\"Target\"] \n",
        "# Splitting the testing and training sets\n",
        "X_train, X_test, y_train, y_test = train_test_split(X, y, test_size=0.2, random_state=42)"
      ]
    },
    {
      "cell_type": "code",
      "execution_count": null,
      "metadata": {
        "id": "XKRIbdRoDyOg"
      },
      "outputs": [],
      "source": [
        "#Testing on the following classifiers\n",
        "classifiers = [MultinomialNB(), \n",
        "               RandomForestClassifier(),\n",
        "               KNeighborsClassifier(), \n",
        "               SVC()]\n",
        "for cls in classifiers:\n",
        "    cls.fit(X_train, y_train)\n",
        "\n",
        "# Dictionary of pipelines and model types for ease of reference\n",
        "pipe_dict = {0: \"NaiveBayes\", 1: \"RandomForest\", 2: \"KNeighbours\",3: \"SVC\"}"
      ]
    },
    {
      "cell_type": "code",
      "execution_count": null,
      "metadata": {
        "colab": {
          "base_uri": "https://localhost:8080/"
        },
        "id": "qwqY5lMzEEu_",
        "outputId": "ff7ac65c-5e86-484b-fbd6-48ce1607a5b5"
      },
      "outputs": [
        {
          "output_type": "stream",
          "name": "stdout",
          "text": [
            "NaiveBayes: 0.967552 \n",
            "RandomForest: 0.975214 \n",
            "KNeighbours: 0.911450 \n",
            "SVC: 0.974086 \n"
          ]
        }
      ],
      "source": [
        "# Cossvalidation \n",
        "for i, model in enumerate(classifiers):\n",
        "    cv_score = cross_val_score(model, X_train,y_train,scoring=\"accuracy\", cv=10)\n",
        "    print(\"%s: %f \" % (pipe_dict[i], cv_score.mean()))"
      ]
    },
    {
      "cell_type": "markdown",
      "metadata": {
        "id": "cj5ywoTNHGoD"
      },
      "source": [
        "# **EVALUATING MODELS**"
      ]
    },
    {
      "cell_type": "markdown",
      "metadata": {
        "id": "Kp3OyaAOHOPc"
      },
      "source": [
        "\n",
        "Testing the models on Testset\n",
        "- Accuracy Report\n",
        "- Confusion Matrix"
      ]
    },
    {
      "cell_type": "code",
      "execution_count": null,
      "metadata": {
        "id": "EXQqYw4-HS3r"
      },
      "outputs": [],
      "source": [
        "# Model Evaluation\n",
        "# creating lists of varios scores\n",
        "precision =[]\n",
        "recall =[]\n",
        "f1_score = []\n",
        "trainset_accuracy = []\n",
        "testset_accuracy = []\n",
        "\n",
        "for i in classifiers:\n",
        "    pred_train = i.predict(X_train)\n",
        "    pred_test = i.predict(X_test)\n",
        "    prec = metrics.precision_score(y_test, pred_test)\n",
        "    recal = metrics.recall_score(y_test, pred_test)\n",
        "    f1_s = metrics.f1_score(y_test, pred_test)\n",
        "    train_accuracy = model.score(X_train,y_train)\n",
        "    test_accuracy = model.score(X_test,y_test)\n",
        "  \n",
        "    #Appending scores\n",
        "    precision.append(prec)\n",
        "    recall.append(recal)\n",
        "    f1_score.append(f1_s)\n",
        "    trainset_accuracy.append(train_accuracy)\n",
        "    testset_accuracy.append(test_accuracy)"
      ]
    },
    {
      "cell_type": "code",
      "execution_count": null,
      "metadata": {
        "id": "dfjiCL24JG0M"
      },
      "outputs": [],
      "source": [
        "# initialise data of lists.\n",
        "data = {'Precision':precision,\n",
        "'Recall':recall,\n",
        "'F1score':f1_score,\n",
        "'Accuracy on Testset':testset_accuracy,\n",
        "'Accuracy on Trainset':trainset_accuracy}\n",
        "# Creates pandas DataFrame.\n",
        "Results = pd.DataFrame(data, index =[\"NaiveBayes\", \"RandomForest\", \"KNeighbours\",\"SVC\"])"
      ]
    },
    {
      "cell_type": "code",
      "execution_count": null,
      "metadata": {
        "colab": {
          "base_uri": "https://localhost:8080/",
          "height": 175
        },
        "id": "ZR3NxIsDJJXu",
        "outputId": "591b1a59-e6f6-4aa4-bd1f-39f93a08225f"
      },
      "outputs": [
        {
          "output_type": "execute_result",
          "data": {
            "text/plain": [
              "<pandas.io.formats.style.Styler at 0x7fbe43b0e890>"
            ],
            "text/html": [
              "<style type=\"text/css\">\n",
              "#T_78bff_row0_col0, #T_78bff_row0_col1, #T_78bff_row0_col2, #T_78bff_row1_col0, #T_78bff_row1_col1, #T_78bff_row1_col2, #T_78bff_row3_col0, #T_78bff_row3_col1, #T_78bff_row3_col2 {\n",
              "  background-color: #ffbd59;\n",
              "  color: #000000;\n",
              "}\n",
              "#T_78bff_row0_col3, #T_78bff_row0_col4, #T_78bff_row1_col3, #T_78bff_row1_col4, #T_78bff_row2_col0, #T_78bff_row2_col1, #T_78bff_row2_col2, #T_78bff_row2_col3, #T_78bff_row2_col4, #T_78bff_row3_col3, #T_78bff_row3_col4 {\n",
              "  background-color: #41dfef;\n",
              "  color: #000000;\n",
              "}\n",
              "</style>\n",
              "<table id=\"T_78bff_\" class=\"dataframe\">\n",
              "  <thead>\n",
              "    <tr>\n",
              "      <th class=\"blank level0\" >&nbsp;</th>\n",
              "      <th class=\"col_heading level0 col0\" >Precision</th>\n",
              "      <th class=\"col_heading level0 col1\" >Recall</th>\n",
              "      <th class=\"col_heading level0 col2\" >F1score</th>\n",
              "      <th class=\"col_heading level0 col3\" >Accuracy on Testset</th>\n",
              "      <th class=\"col_heading level0 col4\" >Accuracy on Trainset</th>\n",
              "    </tr>\n",
              "  </thead>\n",
              "  <tbody>\n",
              "    <tr>\n",
              "      <th id=\"T_78bff_level0_row0\" class=\"row_heading level0 row0\" >NaiveBayes</th>\n",
              "      <td id=\"T_78bff_row0_col0\" class=\"data row0 col0\" >1.000000</td>\n",
              "      <td id=\"T_78bff_row0_col1\" class=\"data row0 col1\" >0.705882</td>\n",
              "      <td id=\"T_78bff_row0_col2\" class=\"data row0 col2\" >0.827586</td>\n",
              "      <td id=\"T_78bff_row0_col3\" class=\"data row0 col3\" >0.974775</td>\n",
              "      <td id=\"T_78bff_row0_col4\" class=\"data row0 col4\" >0.997521</td>\n",
              "    </tr>\n",
              "    <tr>\n",
              "      <th id=\"T_78bff_level0_row1\" class=\"row_heading level0 row1\" >RandomForest</th>\n",
              "      <td id=\"T_78bff_row1_col0\" class=\"data row1 col0\" >1.000000</td>\n",
              "      <td id=\"T_78bff_row1_col1\" class=\"data row1 col1\" >0.801471</td>\n",
              "      <td id=\"T_78bff_row1_col2\" class=\"data row1 col2\" >0.889796</td>\n",
              "      <td id=\"T_78bff_row1_col3\" class=\"data row1 col3\" >0.974775</td>\n",
              "      <td id=\"T_78bff_row1_col4\" class=\"data row1 col4\" >0.997521</td>\n",
              "    </tr>\n",
              "    <tr>\n",
              "      <th id=\"T_78bff_level0_row2\" class=\"row_heading level0 row2\" >KNeighbours</th>\n",
              "      <td id=\"T_78bff_row2_col0\" class=\"data row2 col0\" >0.977778</td>\n",
              "      <td id=\"T_78bff_row2_col1\" class=\"data row2 col1\" >0.323529</td>\n",
              "      <td id=\"T_78bff_row2_col2\" class=\"data row2 col2\" >0.486188</td>\n",
              "      <td id=\"T_78bff_row2_col3\" class=\"data row2 col3\" >0.974775</td>\n",
              "      <td id=\"T_78bff_row2_col4\" class=\"data row2 col4\" >0.997521</td>\n",
              "    </tr>\n",
              "    <tr>\n",
              "      <th id=\"T_78bff_level0_row3\" class=\"row_heading level0 row3\" >SVC</th>\n",
              "      <td id=\"T_78bff_row3_col0\" class=\"data row3 col0\" >0.990909</td>\n",
              "      <td id=\"T_78bff_row3_col1\" class=\"data row3 col1\" >0.801471</td>\n",
              "      <td id=\"T_78bff_row3_col2\" class=\"data row3 col2\" >0.886179</td>\n",
              "      <td id=\"T_78bff_row3_col3\" class=\"data row3 col3\" >0.974775</td>\n",
              "      <td id=\"T_78bff_row3_col4\" class=\"data row3 col4\" >0.997521</td>\n",
              "    </tr>\n",
              "  </tbody>\n",
              "</table>\n"
            ]
          },
          "metadata": {},
          "execution_count": 27
        }
      ],
      "source": [
        "cmap2 = ListedColormap([\"#41DFEF\", \"#FFBD59\"])\n",
        "Results.style.background_gradient(cmap=cmap2)"
      ]
    },
    {
      "cell_type": "code",
      "execution_count": null,
      "metadata": {
        "colab": {
          "base_uri": "https://localhost:8080/",
          "height": 600
        },
        "id": "TdSboTufJM0F",
        "outputId": "dea449ee-7c78-401f-f1a6-5be9e0b54517"
      },
      "outputs": [
        {
          "output_type": "stream",
          "name": "stderr",
          "text": [
            "/usr/local/lib/python3.7/dist-packages/sklearn/utils/deprecation.py:87: FutureWarning: Function plot_confusion_matrix is deprecated; Function `plot_confusion_matrix` is deprecated in 1.0 and will be removed in 1.2. Use one of the class methods: ConfusionMatrixDisplay.from_predictions or ConfusionMatrixDisplay.from_estimator.\n",
            "  warnings.warn(msg, category=FutureWarning)\n",
            "/usr/local/lib/python3.7/dist-packages/sklearn/utils/deprecation.py:87: FutureWarning: Function plot_confusion_matrix is deprecated; Function `plot_confusion_matrix` is deprecated in 1.0 and will be removed in 1.2. Use one of the class methods: ConfusionMatrixDisplay.from_predictions or ConfusionMatrixDisplay.from_estimator.\n",
            "  warnings.warn(msg, category=FutureWarning)\n",
            "/usr/local/lib/python3.7/dist-packages/sklearn/utils/deprecation.py:87: FutureWarning: Function plot_confusion_matrix is deprecated; Function `plot_confusion_matrix` is deprecated in 1.0 and will be removed in 1.2. Use one of the class methods: ConfusionMatrixDisplay.from_predictions or ConfusionMatrixDisplay.from_estimator.\n",
            "  warnings.warn(msg, category=FutureWarning)\n",
            "/usr/local/lib/python3.7/dist-packages/sklearn/utils/deprecation.py:87: FutureWarning: Function plot_confusion_matrix is deprecated; Function `plot_confusion_matrix` is deprecated in 1.0 and will be removed in 1.2. Use one of the class methods: ConfusionMatrixDisplay.from_predictions or ConfusionMatrixDisplay.from_estimator.\n",
            "  warnings.warn(msg, category=FutureWarning)\n"
          ]
        },
        {
          "output_type": "display_data",
          "data": {
            "text/plain": [
              "<Figure size 648x432 with 8 Axes>"
            ],
            "image/png": "[encoded data removed]"
          },
          "metadata": {
            "needs_background": "light"
          }
        }
      ],
      "source": [
        "cmap = ListedColormap([\"#41DFEF\", \"#FFBD59\"])\n",
        "fig, axes = plt.subplots(nrows=2, ncols=2, figsize=(9,6))\n",
        "\n",
        "for cls, ax in zip(classifiers, axes.flatten()):\n",
        "    plot_confusion_matrix(cls, \n",
        "                          X_test, \n",
        "                          y_test, \n",
        "                          ax=ax, \n",
        "                          cmap= cmap,   \n",
        "                          )\n",
        "    ax.title.set_text(type(cls).__name__)\n",
        "plt.tight_layout()  \n",
        "plt.show()\n"
      ]
    }
  ],
  "metadata": {
    "colab": {
      "provenance": []
    },
    "kernelspec": {
      "display_name": "Python 3",
      "name": "python3"
    },
    "language_info": {
      "name": "python"
    }
  },
  "nbformat": 4,
  "nbformat_minor": 0
}